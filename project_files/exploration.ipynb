{
 "cells": [
  {
   "cell_type": "markdown",
   "metadata": {},
   "source": [
    "# Exploring Airnbnb NYC Listings Data\n",
    "<p> The first step of the process before building our model is data exploration. We need to understand what kind of data we are dealing with. This includes exploring the number and type of features, distribution of predictors, and how certain features are related with our response. We will primarily focus on the listings data provided by Airbnb - however, we also use seasonality, reviews, and NYC transit data to better predict pricing for listings. The secondary datasets are examined later.</p>"
   ]
  },
  {
   "cell_type": "markdown",
   "metadata": {},
   "source": [
    "### Import Libraries"
   ]
  },
  {
   "cell_type": "code",
   "execution_count": null,
   "metadata": {
    "collapsed": false
   },
   "outputs": [],
   "source": [
    "import pandas as pd\n",
    "import numpy as np\n",
    "import seaborn as sns\n",
    "from datetime import datetime\n",
    "import matplotlib.pyplot as plt\n",
    "from collections import Counter\n",
    "%matplotlib inline"
   ]
  },
  {
   "cell_type": "code",
   "execution_count": null,
   "metadata": {
    "collapsed": true
   },
   "outputs": [],
   "source": [
    "# Global variables\n",
    "BNB_BLUE = '#007A87'\n",
    "BNB_RED = '#FF5A5F'\n",
    "BNB_DARK_GRAY = '#565A5C'\n",
    "BNB_LIGHT_GRAY = '#CED1CC'"
   ]
  },
  {
   "cell_type": "markdown",
   "metadata": {},
   "source": [
    "### Initial Exploration\n",
    "<p> We begin by examining `listings.csv` below. This is the primary dataset for Airbnb listings in New York City - it contains a number of categorical and quantitative features. Through exploration and analysis we will determine which ones will be useful to our model.</p>"
   ]
  },
  {
   "cell_type": "code",
   "execution_count": null,
   "metadata": {
    "collapsed": false
   },
   "outputs": [],
   "source": [
    "# Read in the listings data \n",
    "listings = pd.read_csv('datasets/listings.csv', delimiter=',')\n",
    "\n",
    "# View feature list\n",
    "print listings.columns.values"
   ]
  },
  {
   "cell_type": "code",
   "execution_count": null,
   "metadata": {
    "collapsed": false
   },
   "outputs": [],
   "source": [
    "# Unsuppress Output\n",
    "pd.options.display.max_columns = 5\n",
    "\n",
    "# Split into predictor and response\n",
    "y = listings[['price']]\n",
    "\n",
    "# Append price at the end of the listings table\n",
    "del listings['price']\n",
    "listings = listings.join(y)\n",
    "\n",
    "# Show listings dataframe\n",
    "print 'Number of entries: ', listings.shape[0]\n",
    "print 'Number of features: ', listings.shape[1] - 1\n",
    "listings.head(n = 3)"
   ]
  },
  {
   "cell_type": "markdown",
   "metadata": {},
   "source": [
    "<p>Looking over the data we see that there are many missing and erroneous entries (ie. listings with a price of \\$0 values). We will have to clean this data before using it to build our model.</p>"
   ]
  },
  {
   "cell_type": "markdown",
   "metadata": {},
   "source": [
    "### Price Distribution of Listings\n",
    "<p>The core listings dataset is comprised of 27,392 entries of Airbnb listing data with 51 total features including `bedrooms`, `bathrooms`, `room_type`, `review_score`, and more. We first examine the listings by price to get an initial impression of distribution.</p>"
   ]
  },
  {
   "cell_type": "code",
   "execution_count": null,
   "metadata": {
    "collapsed": false
   },
   "outputs": [],
   "source": [
    "# plot_hist\n",
    "# \n",
    "# Function to plot histograms\n",
    "# Input: n (integer for subplots)\n",
    "#        titles (list of titles)\n",
    "#        ranges (list of values)\n",
    "# Output: None\n",
    "def plot_hist(n, titles, ranges):\n",
    "    fig, ax = plt.subplots(n, figsize = (8, 7.5))\n",
    "    for i in range(n):\n",
    "        d, bins, patches = ax[i].hist(ranges[i], 50, normed = 1, color= BNB_RED, alpha = 0.85)\n",
    "        ax[i].set_title(titles[i])\n",
    "        ax[i].set_xlabel(\"Daily Listing Price in Dollars\")\n",
    "        ax[i].set_ylabel(\"Frequency\")\n",
    "    plt.tight_layout()\n",
    "    plt.show()"
   ]
  },
  {
   "cell_type": "code",
   "execution_count": null,
   "metadata": {
    "collapsed": false
   },
   "outputs": [],
   "source": [
    "# Visualize price table, changing them to floats and replacing the commas with a blank\n",
    "prices = listings['price'].apply(lambda s: float(s[1:].replace(',','')))\n",
    "\n",
    "# Plot histograms of price distribution\n",
    "plot_hist(3, ['Distribution of Listing Prices: All Data', 'Distribution of Listing Prices: \\$0 - \\$1000', \n",
    "               'Distribution of Listing Prices: \\$0 - \\$200'], [prices, prices[prices <= 1000], prices[prices < 250]])"
   ]
  },
  {
   "cell_type": "markdown",
   "metadata": {
    "collapsed": true
   },
   "source": [
    "<p>Above we see that prices are right skewed - most listings are below \\$500 a night. Examining the price bucket \\$0-\\$ 200 (which has the vast majority of the listings) we see that listings also tend to be most frequently priced at \\$100, \\$150, and \\$200. A transformation could likely reduce this skewness.</p>"
   ]
  },
  {
   "cell_type": "markdown",
   "metadata": {},
   "source": [
    "### Listing Clustering from Features\n",
    "<p>The right-skewness above indicates that there is likely features causing clustering in our data. Intuitively, we believe bedrooms and location can have a large impact on the price of a listing, especially in New York City. We examine this below by exploring the `bedrooms` feature as well as the relationship between geographical location and price.</p>"
   ]
  },
  {
   "cell_type": "markdown",
   "metadata": {},
   "source": [
    "#### Distribution of Listings by Bedrooms Count"
   ]
  },
  {
   "cell_type": "code",
   "execution_count": null,
   "metadata": {
    "collapsed": false
   },
   "outputs": [],
   "source": [
    "# Get frequency of bedroom number for listings\n",
    "bedrooms_counts = Counter(listings.bedrooms)\n",
    "tdf = pd.DataFrame.from_dict(bedrooms_counts, orient = 'index').sort_values(by = 0)\n",
    "tdf = (tdf.iloc[-10:, :] / 27392) * 100\n",
    "\n",
    "# Sort bedroom dataframe by number\n",
    "tdf.sort_index(axis = 0, ascending = True, inplace = True)\n",
    "\n",
    "# Plot percent of listings by bedroom number\n",
    "ax = tdf.plot(kind = 'bar', figsize = (12, 4), color = BNB_BLUE, alpha = 0.85)\n",
    "ax.set_xlabel(\"Number of Bedrooms\")\n",
    "ax.set_ylabel(\"Percent of Listings\")\n",
    "ax.set_title('Percent of Listings by Bedrooms')\n",
    "ax.legend_.remove()\n",
    "\n",
    "plt.show()\n",
    "\n",
    "print \"Percent of 1 Bedroom Listings: %{0:.2f}\".format(tdf[0][1])"
   ]
  },
  {
   "cell_type": "markdown",
   "metadata": {},
   "source": [
    "<p>First we look at the `bedrooms` feature. As expected, we see that the majority of the listings are one-bedroom listings. This explains some of the right-skewness - smaller listings with less bedrooms will likely be priced cheaper than larger ones. But how important is location in influencing the price of a feature? Below we look at listings over low, medium, and high price buckets over NYC.</p>"
   ]
  },
  {
   "cell_type": "markdown",
   "metadata": {},
   "source": [
    "#### Distribution of Listings by Geographical Location"
   ]
  },
  {
   "cell_type": "code",
   "execution_count": null,
   "metadata": {
    "collapsed": false
   },
   "outputs": [],
   "source": [
    "# Outline price buckets\n",
    "intervals = [0,100,300, 10000]\n",
    "leg_labels = []\n",
    "\n",
    "# Get Labels for legend\n",
    "for i in range(0,len(intervals) - 1):\n",
    "    if i == len(intervals) - 2:\n",
    "        leg_labels.append('\\${}+'.format(intervals[i]))\n",
    "    else:\n",
    "        leg_labels.append(\"\\${}-\\${}\".format(intervals[i], intervals[i+1]))    \n",
    "\n",
    "buckets = []\n",
    "\n",
    "# Divide up into price buckets\n",
    "for i in range(0, len(intervals) - 1):\n",
    "    buckets.append(listings[(prices > intervals[i]) & (prices < intervals[i+1])])\n",
    "\n",
    "colors = [BNB_LIGHT_GRAY, BNB_BLUE, BNB_RED]\n",
    "alphas = [0.85, 0.85, 0.85]  \n",
    "\n",
    "# Plot listings on scatterplot\n",
    "plt.figure(figsize=(15, 15))\n",
    "for i in range(0, len(buckets)):\n",
    "    plt.scatter(buckets[i]['longitude'], buckets[i]['latitude'], alpha = alphas[i], c=colors[i], s=25)\n",
    "    \n",
    "plt.title('NYC Airbnb Listings')\n",
    "plt.xlabel('Latitude')\n",
    "plt.ylabel('Longitude')\n",
    "plt.legend(labels=leg_labels, loc = 'best')\n",
    "plt.xlim(-74.2,-73.7)\n",
    "plt.ylim(40.45,40.95)\n",
    "\n",
    "plt.show()"
   ]
  },
  {
   "cell_type": "markdown",
   "metadata": {},
   "source": [
    "<p>The figure above depicts an interesting trend - the farther listings get from Manhattan, the less expensive they get. The most expensive listings are all around Central Park or on the lower end of Manhattan. North Manhattan, however, seems to be an exception with lower priced listings still very close to Central Park. Perhaps a feature on proximity to Central Park could be beneficial in more accurately predicting prices."
   ]
  }
 ],
 "metadata": {
  "anaconda-cloud": {},
  "kernelspec": {
   "display_name": "Python [Root]",
   "language": "python",
   "name": "Python [Root]"
  },
  "language_info": {
   "codemirror_mode": {
    "name": "ipython",
    "version": 2
   },
   "file_extension": ".py",
   "mimetype": "text/x-python",
   "name": "python",
   "nbconvert_exporter": "python",
   "pygments_lexer": "ipython2",
   "version": "2.7.12"
  }
 },
 "nbformat": 4,
 "nbformat_minor": 0
}
